{
 "cells": [
  {
   "cell_type": "code",
   "execution_count": 95,
   "metadata": {},
   "outputs": [],
   "source": [
    "# Let's import few necessary libraries\n",
    "import numpy as np\n",
    "import pandas as pd\n",
    "import matplotlib.pyplot as plt\n",
    "import seaborn as sns"
   ]
  },
  {
   "cell_type": "code",
   "execution_count": 96,
   "metadata": {},
   "outputs": [
    {
     "data": {
      "text/html": [
       "<div>\n",
       "<style scoped>\n",
       "    .dataframe tbody tr th:only-of-type {\n",
       "        vertical-align: middle;\n",
       "    }\n",
       "\n",
       "    .dataframe tbody tr th {\n",
       "        vertical-align: top;\n",
       "    }\n",
       "\n",
       "    .dataframe thead th {\n",
       "        text-align: right;\n",
       "    }\n",
       "</style>\n",
       "<table border=\"1\" class=\"dataframe\">\n",
       "  <thead>\n",
       "    <tr style=\"text-align: right;\">\n",
       "      <th></th>\n",
       "      <th>Formatted Date</th>\n",
       "      <th>Summary</th>\n",
       "      <th>Precip Type</th>\n",
       "      <th>Temperature (C)</th>\n",
       "      <th>Apparent Temperature (C)</th>\n",
       "      <th>Humidity</th>\n",
       "      <th>Wind Speed (km/h)</th>\n",
       "      <th>Wind Bearing (degrees)</th>\n",
       "      <th>Visibility (km)</th>\n",
       "      <th>Loud Cover</th>\n",
       "      <th>Pressure (millibars)</th>\n",
       "      <th>Daily Summary</th>\n",
       "    </tr>\n",
       "  </thead>\n",
       "  <tbody>\n",
       "    <tr>\n",
       "      <th>68856</th>\n",
       "      <td>2013-10-16 01:00:00.000 +0200</td>\n",
       "      <td>Overcast</td>\n",
       "      <td>rain</td>\n",
       "      <td>9.950000</td>\n",
       "      <td>9.383333</td>\n",
       "      <td>0.93</td>\n",
       "      <td>6.1502</td>\n",
       "      <td>151.0</td>\n",
       "      <td>9.7083</td>\n",
       "      <td>0.0</td>\n",
       "      <td>1009.98</td>\n",
       "      <td>Mostly cloudy throughout the day and breezy st...</td>\n",
       "    </tr>\n",
       "    <tr>\n",
       "      <th>53774</th>\n",
       "      <td>2012-08-26 14:00:00.000 +0200</td>\n",
       "      <td>Clear</td>\n",
       "      <td>rain</td>\n",
       "      <td>32.394444</td>\n",
       "      <td>31.616667</td>\n",
       "      <td>0.33</td>\n",
       "      <td>20.2055</td>\n",
       "      <td>296.0</td>\n",
       "      <td>10.3523</td>\n",
       "      <td>0.0</td>\n",
       "      <td>1007.38</td>\n",
       "      <td>Breezy starting in the afternoon continuing un...</td>\n",
       "    </tr>\n",
       "    <tr>\n",
       "      <th>15802</th>\n",
       "      <td>2007-11-26 11:00:00.000 +0100</td>\n",
       "      <td>Mostly Cloudy</td>\n",
       "      <td>rain</td>\n",
       "      <td>3.866667</td>\n",
       "      <td>-0.566667</td>\n",
       "      <td>0.89</td>\n",
       "      <td>21.7994</td>\n",
       "      <td>242.0</td>\n",
       "      <td>11.2700</td>\n",
       "      <td>0.0</td>\n",
       "      <td>1017.38</td>\n",
       "      <td>Mostly cloudy until night.</td>\n",
       "    </tr>\n",
       "    <tr>\n",
       "      <th>46268</th>\n",
       "      <td>2011-02-17 20:00:00.000 +0100</td>\n",
       "      <td>Partly Cloudy</td>\n",
       "      <td>rain</td>\n",
       "      <td>2.288889</td>\n",
       "      <td>-1.005556</td>\n",
       "      <td>0.92</td>\n",
       "      <td>11.9945</td>\n",
       "      <td>139.0</td>\n",
       "      <td>6.9069</td>\n",
       "      <td>0.0</td>\n",
       "      <td>1010.96</td>\n",
       "      <td>Mostly cloudy throughout the day.</td>\n",
       "    </tr>\n",
       "    <tr>\n",
       "      <th>94703</th>\n",
       "      <td>2016-11-26 03:00:00.000 +0100</td>\n",
       "      <td>Partly Cloudy</td>\n",
       "      <td>rain</td>\n",
       "      <td>1.250000</td>\n",
       "      <td>-1.677778</td>\n",
       "      <td>0.95</td>\n",
       "      <td>9.5151</td>\n",
       "      <td>174.0</td>\n",
       "      <td>7.5187</td>\n",
       "      <td>0.0</td>\n",
       "      <td>1019.20</td>\n",
       "      <td>Mostly cloudy throughout the day.</td>\n",
       "    </tr>\n",
       "  </tbody>\n",
       "</table>\n",
       "</div>"
      ],
      "text/plain": [
       "                      Formatted Date        Summary Precip Type  \\\n",
       "68856  2013-10-16 01:00:00.000 +0200       Overcast        rain   \n",
       "53774  2012-08-26 14:00:00.000 +0200          Clear        rain   \n",
       "15802  2007-11-26 11:00:00.000 +0100  Mostly Cloudy        rain   \n",
       "46268  2011-02-17 20:00:00.000 +0100  Partly Cloudy        rain   \n",
       "94703  2016-11-26 03:00:00.000 +0100  Partly Cloudy        rain   \n",
       "\n",
       "       Temperature (C)  Apparent Temperature (C)  Humidity  Wind Speed (km/h)  \\\n",
       "68856         9.950000                  9.383333      0.93             6.1502   \n",
       "53774        32.394444                 31.616667      0.33            20.2055   \n",
       "15802         3.866667                 -0.566667      0.89            21.7994   \n",
       "46268         2.288889                 -1.005556      0.92            11.9945   \n",
       "94703         1.250000                 -1.677778      0.95             9.5151   \n",
       "\n",
       "       Wind Bearing (degrees)  Visibility (km)  Loud Cover  \\\n",
       "68856                   151.0           9.7083         0.0   \n",
       "53774                   296.0          10.3523         0.0   \n",
       "15802                   242.0          11.2700         0.0   \n",
       "46268                   139.0           6.9069         0.0   \n",
       "94703                   174.0           7.5187         0.0   \n",
       "\n",
       "       Pressure (millibars)                                      Daily Summary  \n",
       "68856               1009.98  Mostly cloudy throughout the day and breezy st...  \n",
       "53774               1007.38  Breezy starting in the afternoon continuing un...  \n",
       "15802               1017.38                         Mostly cloudy until night.  \n",
       "46268               1010.96                  Mostly cloudy throughout the day.  \n",
       "94703               1019.20                  Mostly cloudy throughout the day.  "
      ]
     },
     "execution_count": 96,
     "metadata": {},
     "output_type": "execute_result"
    }
   ],
   "source": [
    "# Time to load the dataset\n",
    "df = pd.read_csv(\"weatherHistory.csv\")\n",
    "df.sample(5)"
   ]
  },
  {
   "cell_type": "code",
   "execution_count": 97,
   "metadata": {},
   "outputs": [
    {
     "data": {
      "text/plain": [
       "(96453, 12)"
      ]
     },
     "execution_count": 97,
     "metadata": {},
     "output_type": "execute_result"
    }
   ],
   "source": [
    "# let's check the dataset shape\n",
    "df.shape"
   ]
  },
  {
   "cell_type": "code",
   "execution_count": 98,
   "metadata": {},
   "outputs": [
    {
     "data": {
      "text/plain": [
       "array(['2006-04-01 00:00:00.000 +0200', '2006-04-01 01:00:00.000 +0200',\n",
       "       '2006-04-01 02:00:00.000 +0200', ...,\n",
       "       '2016-09-09 21:00:00.000 +0200', '2016-09-09 22:00:00.000 +0200',\n",
       "       '2016-09-09 23:00:00.000 +0200'], dtype=object)"
      ]
     },
     "execution_count": 98,
     "metadata": {},
     "output_type": "execute_result"
    }
   ],
   "source": [
    "# we want to get the month from all the date as depending upon the month we want to predict weather condition\n",
    "df['Formatted Date'].unique()"
   ]
  },
  {
   "cell_type": "markdown",
   "metadata": {},
   "source": [
    "We need to get the months from the Formatted Date.  \n",
    "So that later we can predict the weather summary depending upon the month of the year "
   ]
  },
  {
   "cell_type": "code",
   "execution_count": 99,
   "metadata": {},
   "outputs": [],
   "source": [
    "# we will select only the month\n",
    "df[['year','month','day']] = df['Formatted Date'].str.split('-', expand=True)"
   ]
  },
  {
   "cell_type": "code",
   "execution_count": 100,
   "metadata": {},
   "outputs": [
    {
     "data": {
      "text/html": [
       "<div>\n",
       "<style scoped>\n",
       "    .dataframe tbody tr th:only-of-type {\n",
       "        vertical-align: middle;\n",
       "    }\n",
       "\n",
       "    .dataframe tbody tr th {\n",
       "        vertical-align: top;\n",
       "    }\n",
       "\n",
       "    .dataframe thead th {\n",
       "        text-align: right;\n",
       "    }\n",
       "</style>\n",
       "<table border=\"1\" class=\"dataframe\">\n",
       "  <thead>\n",
       "    <tr style=\"text-align: right;\">\n",
       "      <th></th>\n",
       "      <th>Formatted Date</th>\n",
       "      <th>Summary</th>\n",
       "      <th>Precip Type</th>\n",
       "      <th>Temperature (C)</th>\n",
       "      <th>Apparent Temperature (C)</th>\n",
       "      <th>Humidity</th>\n",
       "      <th>Wind Speed (km/h)</th>\n",
       "      <th>Wind Bearing (degrees)</th>\n",
       "      <th>Visibility (km)</th>\n",
       "      <th>Loud Cover</th>\n",
       "      <th>Pressure (millibars)</th>\n",
       "      <th>Daily Summary</th>\n",
       "      <th>year</th>\n",
       "      <th>month</th>\n",
       "      <th>day</th>\n",
       "    </tr>\n",
       "  </thead>\n",
       "  <tbody>\n",
       "    <tr>\n",
       "      <th>0</th>\n",
       "      <td>2006-04-01 00:00:00.000 +0200</td>\n",
       "      <td>Partly Cloudy</td>\n",
       "      <td>rain</td>\n",
       "      <td>9.472222</td>\n",
       "      <td>7.388889</td>\n",
       "      <td>0.89</td>\n",
       "      <td>14.1197</td>\n",
       "      <td>251.0</td>\n",
       "      <td>15.8263</td>\n",
       "      <td>0.0</td>\n",
       "      <td>1015.13</td>\n",
       "      <td>Partly cloudy throughout the day.</td>\n",
       "      <td>2006</td>\n",
       "      <td>04</td>\n",
       "      <td>01 00:00:00.000 +0200</td>\n",
       "    </tr>\n",
       "    <tr>\n",
       "      <th>1</th>\n",
       "      <td>2006-04-01 01:00:00.000 +0200</td>\n",
       "      <td>Partly Cloudy</td>\n",
       "      <td>rain</td>\n",
       "      <td>9.355556</td>\n",
       "      <td>7.227778</td>\n",
       "      <td>0.86</td>\n",
       "      <td>14.2646</td>\n",
       "      <td>259.0</td>\n",
       "      <td>15.8263</td>\n",
       "      <td>0.0</td>\n",
       "      <td>1015.63</td>\n",
       "      <td>Partly cloudy throughout the day.</td>\n",
       "      <td>2006</td>\n",
       "      <td>04</td>\n",
       "      <td>01 01:00:00.000 +0200</td>\n",
       "    </tr>\n",
       "    <tr>\n",
       "      <th>2</th>\n",
       "      <td>2006-04-01 02:00:00.000 +0200</td>\n",
       "      <td>Mostly Cloudy</td>\n",
       "      <td>rain</td>\n",
       "      <td>9.377778</td>\n",
       "      <td>9.377778</td>\n",
       "      <td>0.89</td>\n",
       "      <td>3.9284</td>\n",
       "      <td>204.0</td>\n",
       "      <td>14.9569</td>\n",
       "      <td>0.0</td>\n",
       "      <td>1015.94</td>\n",
       "      <td>Partly cloudy throughout the day.</td>\n",
       "      <td>2006</td>\n",
       "      <td>04</td>\n",
       "      <td>01 02:00:00.000 +0200</td>\n",
       "    </tr>\n",
       "    <tr>\n",
       "      <th>3</th>\n",
       "      <td>2006-04-01 03:00:00.000 +0200</td>\n",
       "      <td>Partly Cloudy</td>\n",
       "      <td>rain</td>\n",
       "      <td>8.288889</td>\n",
       "      <td>5.944444</td>\n",
       "      <td>0.83</td>\n",
       "      <td>14.1036</td>\n",
       "      <td>269.0</td>\n",
       "      <td>15.8263</td>\n",
       "      <td>0.0</td>\n",
       "      <td>1016.41</td>\n",
       "      <td>Partly cloudy throughout the day.</td>\n",
       "      <td>2006</td>\n",
       "      <td>04</td>\n",
       "      <td>01 03:00:00.000 +0200</td>\n",
       "    </tr>\n",
       "    <tr>\n",
       "      <th>4</th>\n",
       "      <td>2006-04-01 04:00:00.000 +0200</td>\n",
       "      <td>Mostly Cloudy</td>\n",
       "      <td>rain</td>\n",
       "      <td>8.755556</td>\n",
       "      <td>6.977778</td>\n",
       "      <td>0.83</td>\n",
       "      <td>11.0446</td>\n",
       "      <td>259.0</td>\n",
       "      <td>15.8263</td>\n",
       "      <td>0.0</td>\n",
       "      <td>1016.51</td>\n",
       "      <td>Partly cloudy throughout the day.</td>\n",
       "      <td>2006</td>\n",
       "      <td>04</td>\n",
       "      <td>01 04:00:00.000 +0200</td>\n",
       "    </tr>\n",
       "  </tbody>\n",
       "</table>\n",
       "</div>"
      ],
      "text/plain": [
       "                  Formatted Date        Summary Precip Type  Temperature (C)  \\\n",
       "0  2006-04-01 00:00:00.000 +0200  Partly Cloudy        rain         9.472222   \n",
       "1  2006-04-01 01:00:00.000 +0200  Partly Cloudy        rain         9.355556   \n",
       "2  2006-04-01 02:00:00.000 +0200  Mostly Cloudy        rain         9.377778   \n",
       "3  2006-04-01 03:00:00.000 +0200  Partly Cloudy        rain         8.288889   \n",
       "4  2006-04-01 04:00:00.000 +0200  Mostly Cloudy        rain         8.755556   \n",
       "\n",
       "   Apparent Temperature (C)  Humidity  Wind Speed (km/h)  \\\n",
       "0                  7.388889      0.89            14.1197   \n",
       "1                  7.227778      0.86            14.2646   \n",
       "2                  9.377778      0.89             3.9284   \n",
       "3                  5.944444      0.83            14.1036   \n",
       "4                  6.977778      0.83            11.0446   \n",
       "\n",
       "   Wind Bearing (degrees)  Visibility (km)  Loud Cover  Pressure (millibars)  \\\n",
       "0                   251.0          15.8263         0.0               1015.13   \n",
       "1                   259.0          15.8263         0.0               1015.63   \n",
       "2                   204.0          14.9569         0.0               1015.94   \n",
       "3                   269.0          15.8263         0.0               1016.41   \n",
       "4                   259.0          15.8263         0.0               1016.51   \n",
       "\n",
       "                       Daily Summary  year month                    day  \n",
       "0  Partly cloudy throughout the day.  2006    04  01 00:00:00.000 +0200  \n",
       "1  Partly cloudy throughout the day.  2006    04  01 01:00:00.000 +0200  \n",
       "2  Partly cloudy throughout the day.  2006    04  01 02:00:00.000 +0200  \n",
       "3  Partly cloudy throughout the day.  2006    04  01 03:00:00.000 +0200  \n",
       "4  Partly cloudy throughout the day.  2006    04  01 04:00:00.000 +0200  "
      ]
     },
     "execution_count": 100,
     "metadata": {},
     "output_type": "execute_result"
    }
   ],
   "source": [
    "df.head()"
   ]
  },
  {
   "cell_type": "code",
   "execution_count": 101,
   "metadata": {},
   "outputs": [],
   "source": [
    "# let's first drop few unnecessary columns\n",
    "df.drop(columns=['Formatted Date', 'year', 'day', 'Daily Summary'], axis=1, inplace=True)"
   ]
  },
  {
   "cell_type": "code",
   "execution_count": 103,
   "metadata": {},
   "outputs": [],
   "source": [
    "# covert the month type to integer so that we need not to do label encoding on this any more\n",
    "df['month'] = df['month'].astype('int')"
   ]
  },
  {
   "cell_type": "code",
   "execution_count": 106,
   "metadata": {},
   "outputs": [
    {
     "data": {
      "text/plain": [
       "Summary\n",
       "Partly Cloudy                          0.329000\n",
       "Mostly Cloudy                          0.291271\n",
       "Overcast                               0.172073\n",
       "Clear                                  0.112905\n",
       "Foggy                                  0.074109\n",
       "Breezy and Overcast                    0.005474\n",
       "Breezy and Mostly Cloudy               0.005350\n",
       "Breezy and Partly Cloudy               0.004002\n",
       "Dry and Partly Cloudy                  0.000892\n",
       "Windy and Partly Cloudy                0.000695\n",
       "Light Rain                             0.000653\n",
       "Breezy                                 0.000560\n",
       "Windy and Overcast                     0.000467\n",
       "Humid and Mostly Cloudy                0.000415\n",
       "Drizzle                                0.000404\n",
       "Breezy and Foggy                       0.000363\n",
       "Windy and Mostly Cloudy                0.000363\n",
       "Dry                                    0.000353\n",
       "Humid and Partly Cloudy                0.000176\n",
       "Dry and Mostly Cloudy                  0.000145\n",
       "Rain                                   0.000104\n",
       "Windy                                  0.000083\n",
       "Humid and Overcast                     0.000073\n",
       "Windy and Foggy                        0.000041\n",
       "Windy and Dry                          0.000010\n",
       "Dangerously Windy and Partly Cloudy    0.000010\n",
       "Breezy and Dry                         0.000010\n",
       "Name: proportion, dtype: float64"
      ]
     },
     "execution_count": 106,
     "metadata": {},
     "output_type": "execute_result"
    }
   ],
   "source": [
    "# we will only select few dominant weather conditions in terms of their frequency throughout the year\n",
    "df['Summary'].value_counts(normalize=True)"
   ]
  },
  {
   "cell_type": "code",
   "execution_count": 108,
   "metadata": {},
   "outputs": [
    {
     "data": {
      "text/plain": [
       "Summary\n",
       "Partly Cloudy    31733\n",
       "Mostly Cloudy    28094\n",
       "Overcast         16597\n",
       "Clear            10890\n",
       "Foggy             7148\n",
       "Name: count, dtype: int64"
      ]
     },
     "execution_count": 108,
     "metadata": {},
     "output_type": "execute_result"
    }
   ],
   "source": [
    "# these weather conditions are only important \n",
    "df = df[(df[\"Summary\"] == \"Partly Cloudy\") \n",
    "        | (df[\"Summary\"] == \"Mostly Cloudy\") \n",
    "        | (df[\"Summary\"] == \"Foggy\") \n",
    "        | (df[\"Summary\"] == \"Overcast\") \n",
    "        | (df[\"Summary\"] == \"Clear\")]\n",
    "df['Summary'].value_counts()"
   ]
  },
  {
   "cell_type": "code",
   "execution_count": 110,
   "metadata": {},
   "outputs": [
    {
     "data": {
      "text/html": [
       "<div>\n",
       "<style scoped>\n",
       "    .dataframe tbody tr th:only-of-type {\n",
       "        vertical-align: middle;\n",
       "    }\n",
       "\n",
       "    .dataframe tbody tr th {\n",
       "        vertical-align: top;\n",
       "    }\n",
       "\n",
       "    .dataframe thead th {\n",
       "        text-align: right;\n",
       "    }\n",
       "</style>\n",
       "<table border=\"1\" class=\"dataframe\">\n",
       "  <thead>\n",
       "    <tr style=\"text-align: right;\">\n",
       "      <th></th>\n",
       "      <th>Summary</th>\n",
       "      <th>Precip Type</th>\n",
       "      <th>Temperature (C)</th>\n",
       "      <th>Apparent Temperature (C)</th>\n",
       "      <th>Humidity</th>\n",
       "      <th>Wind Speed (km/h)</th>\n",
       "      <th>Wind Bearing (degrees)</th>\n",
       "      <th>Visibility (km)</th>\n",
       "      <th>Loud Cover</th>\n",
       "      <th>Pressure (millibars)</th>\n",
       "      <th>month</th>\n",
       "    </tr>\n",
       "  </thead>\n",
       "  <tbody>\n",
       "    <tr>\n",
       "      <th>18593</th>\n",
       "      <td>Partly Cloudy</td>\n",
       "      <td>rain</td>\n",
       "      <td>31.988889</td>\n",
       "      <td>30.650000</td>\n",
       "      <td>0.29</td>\n",
       "      <td>11.3022</td>\n",
       "      <td>353.0</td>\n",
       "      <td>10.3523</td>\n",
       "      <td>0.0</td>\n",
       "      <td>1016.97</td>\n",
       "      <td>8</td>\n",
       "    </tr>\n",
       "    <tr>\n",
       "      <th>938</th>\n",
       "      <td>Partly Cloudy</td>\n",
       "      <td>rain</td>\n",
       "      <td>19.505556</td>\n",
       "      <td>19.505556</td>\n",
       "      <td>0.92</td>\n",
       "      <td>2.8980</td>\n",
       "      <td>211.0</td>\n",
       "      <td>14.9569</td>\n",
       "      <td>0.0</td>\n",
       "      <td>1015.42</td>\n",
       "      <td>8</td>\n",
       "    </tr>\n",
       "    <tr>\n",
       "      <th>45148</th>\n",
       "      <td>Partly Cloudy</td>\n",
       "      <td>rain</td>\n",
       "      <td>18.105556</td>\n",
       "      <td>18.105556</td>\n",
       "      <td>0.61</td>\n",
       "      <td>10.9158</td>\n",
       "      <td>329.0</td>\n",
       "      <td>15.8263</td>\n",
       "      <td>0.0</td>\n",
       "      <td>1011.86</td>\n",
       "      <td>8</td>\n",
       "    </tr>\n",
       "    <tr>\n",
       "      <th>71243</th>\n",
       "      <td>Mostly Cloudy</td>\n",
       "      <td>rain</td>\n",
       "      <td>23.972222</td>\n",
       "      <td>23.972222</td>\n",
       "      <td>0.50</td>\n",
       "      <td>7.3738</td>\n",
       "      <td>123.0</td>\n",
       "      <td>15.3111</td>\n",
       "      <td>0.0</td>\n",
       "      <td>1015.52</td>\n",
       "      <td>8</td>\n",
       "    </tr>\n",
       "    <tr>\n",
       "      <th>71124</th>\n",
       "      <td>Mostly Cloudy</td>\n",
       "      <td>rain</td>\n",
       "      <td>25.066667</td>\n",
       "      <td>25.066667</td>\n",
       "      <td>0.50</td>\n",
       "      <td>9.8210</td>\n",
       "      <td>191.0</td>\n",
       "      <td>16.1000</td>\n",
       "      <td>0.0</td>\n",
       "      <td>1013.97</td>\n",
       "      <td>8</td>\n",
       "    </tr>\n",
       "  </tbody>\n",
       "</table>\n",
       "</div>"
      ],
      "text/plain": [
       "             Summary Precip Type  Temperature (C)  Apparent Temperature (C)  \\\n",
       "18593  Partly Cloudy        rain        31.988889                 30.650000   \n",
       "938    Partly Cloudy        rain        19.505556                 19.505556   \n",
       "45148  Partly Cloudy        rain        18.105556                 18.105556   \n",
       "71243  Mostly Cloudy        rain        23.972222                 23.972222   \n",
       "71124  Mostly Cloudy        rain        25.066667                 25.066667   \n",
       "\n",
       "       Humidity  Wind Speed (km/h)  Wind Bearing (degrees)  Visibility (km)  \\\n",
       "18593      0.29            11.3022                   353.0          10.3523   \n",
       "938        0.92             2.8980                   211.0          14.9569   \n",
       "45148      0.61            10.9158                   329.0          15.8263   \n",
       "71243      0.50             7.3738                   123.0          15.3111   \n",
       "71124      0.50             9.8210                   191.0          16.1000   \n",
       "\n",
       "       Loud Cover  Pressure (millibars)  month  \n",
       "18593         0.0               1016.97      8  \n",
       "938           0.0               1015.42      8  \n",
       "45148         0.0               1011.86      8  \n",
       "71243         0.0               1015.52      8  \n",
       "71124         0.0               1013.97      8  "
      ]
     },
     "execution_count": 110,
     "metadata": {},
     "output_type": "execute_result"
    }
   ],
   "source": [
    "df.sample(5)"
   ]
  },
  {
   "cell_type": "code",
   "execution_count": 111,
   "metadata": {},
   "outputs": [
    {
     "data": {
      "text/plain": [
       "count    94462.0\n",
       "mean         0.0\n",
       "std          0.0\n",
       "min          0.0\n",
       "25%          0.0\n",
       "50%          0.0\n",
       "75%          0.0\n",
       "max          0.0\n",
       "Name: Loud Cover, dtype: float64"
      ]
     },
     "execution_count": 111,
     "metadata": {},
     "output_type": "execute_result"
    }
   ],
   "source": [
    "# seems like Loud Cover feature is not that much important we can drop it\n",
    "df['Loud Cover'].describe()"
   ]
  },
  {
   "cell_type": "code",
   "execution_count": 112,
   "metadata": {},
   "outputs": [
    {
     "data": {
      "text/plain": [
       "Precip Type\n",
       "rain    83365\n",
       "snow    10580\n",
       "Name: count, dtype: int64"
      ]
     },
     "execution_count": 112,
     "metadata": {},
     "output_type": "execute_result"
    }
   ],
   "source": [
    "# check precip type\n",
    "df['Precip Type'].value_counts()"
   ]
  },
  {
   "cell_type": "code",
   "execution_count": 113,
   "metadata": {},
   "outputs": [],
   "source": [
    "# since we are going to predict the weather type we will not use the rain/snow feature, we will drop this also\n",
    "df.drop(columns=['Precip Type','Loud Cover'], axis=1, inplace=True)"
   ]
  },
  {
   "cell_type": "code",
   "execution_count": 114,
   "metadata": {},
   "outputs": [
    {
     "data": {
      "text/html": [
       "<div>\n",
       "<style scoped>\n",
       "    .dataframe tbody tr th:only-of-type {\n",
       "        vertical-align: middle;\n",
       "    }\n",
       "\n",
       "    .dataframe tbody tr th {\n",
       "        vertical-align: top;\n",
       "    }\n",
       "\n",
       "    .dataframe thead th {\n",
       "        text-align: right;\n",
       "    }\n",
       "</style>\n",
       "<table border=\"1\" class=\"dataframe\">\n",
       "  <thead>\n",
       "    <tr style=\"text-align: right;\">\n",
       "      <th></th>\n",
       "      <th>Summary</th>\n",
       "      <th>Temperature (C)</th>\n",
       "      <th>Apparent Temperature (C)</th>\n",
       "      <th>Humidity</th>\n",
       "      <th>Wind Speed (km/h)</th>\n",
       "      <th>Wind Bearing (degrees)</th>\n",
       "      <th>Visibility (km)</th>\n",
       "      <th>Pressure (millibars)</th>\n",
       "      <th>month</th>\n",
       "    </tr>\n",
       "  </thead>\n",
       "  <tbody>\n",
       "    <tr>\n",
       "      <th>16965</th>\n",
       "      <td>Clear</td>\n",
       "      <td>14.772222</td>\n",
       "      <td>14.772222</td>\n",
       "      <td>0.73</td>\n",
       "      <td>4.8300</td>\n",
       "      <td>170.0</td>\n",
       "      <td>9.9820</td>\n",
       "      <td>1019.12</td>\n",
       "      <td>9</td>\n",
       "    </tr>\n",
       "    <tr>\n",
       "      <th>89151</th>\n",
       "      <td>Mostly Cloudy</td>\n",
       "      <td>3.883333</td>\n",
       "      <td>1.250000</td>\n",
       "      <td>0.83</td>\n",
       "      <td>10.4006</td>\n",
       "      <td>162.0</td>\n",
       "      <td>8.7906</td>\n",
       "      <td>1018.81</td>\n",
       "      <td>12</td>\n",
       "    </tr>\n",
       "    <tr>\n",
       "      <th>82705</th>\n",
       "      <td>Mostly Cloudy</td>\n",
       "      <td>17.150000</td>\n",
       "      <td>17.150000</td>\n",
       "      <td>0.87</td>\n",
       "      <td>3.2200</td>\n",
       "      <td>70.0</td>\n",
       "      <td>16.1000</td>\n",
       "      <td>1019.12</td>\n",
       "      <td>7</td>\n",
       "    </tr>\n",
       "    <tr>\n",
       "      <th>94106</th>\n",
       "      <td>Partly Cloudy</td>\n",
       "      <td>15.888889</td>\n",
       "      <td>15.888889</td>\n",
       "      <td>0.81</td>\n",
       "      <td>4.9749</td>\n",
       "      <td>211.0</td>\n",
       "      <td>16.1000</td>\n",
       "      <td>1011.50</td>\n",
       "      <td>5</td>\n",
       "    </tr>\n",
       "    <tr>\n",
       "      <th>83534</th>\n",
       "      <td>Mostly Cloudy</td>\n",
       "      <td>20.233333</td>\n",
       "      <td>20.233333</td>\n",
       "      <td>0.62</td>\n",
       "      <td>19.8513</td>\n",
       "      <td>311.0</td>\n",
       "      <td>10.3523</td>\n",
       "      <td>1010.47</td>\n",
       "      <td>6</td>\n",
       "    </tr>\n",
       "  </tbody>\n",
       "</table>\n",
       "</div>"
      ],
      "text/plain": [
       "             Summary  Temperature (C)  Apparent Temperature (C)  Humidity  \\\n",
       "16965          Clear        14.772222                 14.772222      0.73   \n",
       "89151  Mostly Cloudy         3.883333                  1.250000      0.83   \n",
       "82705  Mostly Cloudy        17.150000                 17.150000      0.87   \n",
       "94106  Partly Cloudy        15.888889                 15.888889      0.81   \n",
       "83534  Mostly Cloudy        20.233333                 20.233333      0.62   \n",
       "\n",
       "       Wind Speed (km/h)  Wind Bearing (degrees)  Visibility (km)  \\\n",
       "16965             4.8300                   170.0           9.9820   \n",
       "89151            10.4006                   162.0           8.7906   \n",
       "82705             3.2200                    70.0          16.1000   \n",
       "94106             4.9749                   211.0          16.1000   \n",
       "83534            19.8513                   311.0          10.3523   \n",
       "\n",
       "       Pressure (millibars)  month  \n",
       "16965               1019.12      9  \n",
       "89151               1018.81     12  \n",
       "82705               1019.12      7  \n",
       "94106               1011.50      5  \n",
       "83534               1010.47      6  "
      ]
     },
     "execution_count": 114,
     "metadata": {},
     "output_type": "execute_result"
    }
   ],
   "source": [
    "df.sample(5)"
   ]
  },
  {
   "cell_type": "code",
   "execution_count": 115,
   "metadata": {},
   "outputs": [
    {
     "data": {
      "text/plain": [
       "Summary                     0\n",
       "Temperature (C)             0\n",
       "Apparent Temperature (C)    0\n",
       "Humidity                    0\n",
       "Wind Speed (km/h)           0\n",
       "Wind Bearing (degrees)      0\n",
       "Visibility (km)             0\n",
       "Pressure (millibars)        0\n",
       "month                       0\n",
       "dtype: int64"
      ]
     },
     "execution_count": 115,
     "metadata": {},
     "output_type": "execute_result"
    }
   ],
   "source": [
    "# now our dataframe is ready, its time to do some cleaning\n",
    "df.isnull().sum()"
   ]
  },
  {
   "cell_type": "code",
   "execution_count": 117,
   "metadata": {},
   "outputs": [],
   "source": [
    "df.duplicated().sum()\n",
    "df.drop_duplicates(inplace=True)"
   ]
  },
  {
   "cell_type": "code",
   "execution_count": 120,
   "metadata": {},
   "outputs": [
    {
     "data": {
      "text/plain": [
       "(94402, 9)"
      ]
     },
     "execution_count": 120,
     "metadata": {},
     "output_type": "execute_result"
    }
   ],
   "source": []
  }
 ],
 "metadata": {
  "kernelspec": {
   "display_name": "ml",
   "language": "python",
   "name": "python3"
  },
  "language_info": {
   "codemirror_mode": {
    "name": "ipython",
    "version": 3
   },
   "file_extension": ".py",
   "mimetype": "text/x-python",
   "name": "python",
   "nbconvert_exporter": "python",
   "pygments_lexer": "ipython3",
   "version": "3.11.4"
  }
 },
 "nbformat": 4,
 "nbformat_minor": 2
}
