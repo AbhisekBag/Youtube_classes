{
 "cells": [
  {
   "cell_type": "code",
   "execution_count": 4,
   "metadata": {},
   "outputs": [],
   "source": [
    "import pandas as pd\n",
    "import os\n",
    "import gensim\n",
    "import spacy\n",
    "\n",
    "nlp = spacy.load('en_core_web_lg')"
   ]
  },
  {
   "cell_type": "code",
   "execution_count": 5,
   "metadata": {},
   "outputs": [
    {
     "data": {
      "text/html": [
       "<div>\n",
       "<style scoped>\n",
       "    .dataframe tbody tr th:only-of-type {\n",
       "        vertical-align: middle;\n",
       "    }\n",
       "\n",
       "    .dataframe tbody tr th {\n",
       "        vertical-align: top;\n",
       "    }\n",
       "\n",
       "    .dataframe thead th {\n",
       "        text-align: right;\n",
       "    }\n",
       "</style>\n",
       "<table border=\"1\" class=\"dataframe\">\n",
       "  <thead>\n",
       "    <tr style=\"text-align: right;\">\n",
       "      <th></th>\n",
       "      <th>Id</th>\n",
       "      <th>text</th>\n",
       "    </tr>\n",
       "  </thead>\n",
       "  <tbody>\n",
       "    <tr>\n",
       "      <th>0</th>\n",
       "      <td>0</td>\n",
       "      <td>The Project Gutenberg eBook of Alice’s Adventu...</td>\n",
       "    </tr>\n",
       "    <tr>\n",
       "      <th>1</th>\n",
       "      <td>1</td>\n",
       "      <td>You may copy it, give it away or re-use it un...</td>\n",
       "    </tr>\n",
       "    <tr>\n",
       "      <th>2</th>\n",
       "      <td>2</td>\n",
       "      <td>gutenberg</td>\n",
       "    </tr>\n",
       "    <tr>\n",
       "      <th>3</th>\n",
       "      <td>3</td>\n",
       "      <td>org</td>\n",
       "    </tr>\n",
       "    <tr>\n",
       "      <th>4</th>\n",
       "      <td>4</td>\n",
       "      <td>If you are not located in the United States, ...</td>\n",
       "    </tr>\n",
       "  </tbody>\n",
       "</table>\n",
       "</div>"
      ],
      "text/plain": [
       "   Id                                               text\n",
       "0   0  The Project Gutenberg eBook of Alice’s Adventu...\n",
       "1   1   You may copy it, give it away or re-use it un...\n",
       "2   2                                          gutenberg\n",
       "3   3                                                org\n",
       "4   4   If you are not located in the United States, ..."
      ]
     },
     "execution_count": 5,
     "metadata": {},
     "output_type": "execute_result"
    }
   ],
   "source": [
    "data = pd.read_csv(\"alice.csv\")\n",
    "data.head()"
   ]
  },
  {
   "cell_type": "code",
   "execution_count": 6,
   "metadata": {},
   "outputs": [],
   "source": [
    "ref_sent = data.loc[data[\"Id\"]==748, 'text'].iloc[0]"
   ]
  },
  {
   "cell_type": "code",
   "execution_count": 13,
   "metadata": {},
   "outputs": [],
   "source": [
    "ref_sent_vec = nlp(ref_sent)"
   ]
  },
  {
   "cell_type": "code",
   "execution_count": 11,
   "metadata": {},
   "outputs": [],
   "source": [
    "all_docs = [nlp(row) for row in data['text']]"
   ]
  },
  {
   "cell_type": "code",
   "execution_count": 14,
   "metadata": {},
   "outputs": [
    {
     "name": "stderr",
     "output_type": "stream",
     "text": [
      "/var/folders/v6/z_jg_4k95wb72g2fl3l55f_40000gn/T/ipykernel_28657/2779719349.py:4: UserWarning: [W008] Evaluating Doc.similarity based on empty vectors.\n",
      "  sim = all_docs[i].similarity(ref_sent_vec)\n"
     ]
    }
   ],
   "source": [
    "sims = []\n",
    "doc_id = []\n",
    "for i in range(len(all_docs)):\n",
    "    sim = all_docs[i].similarity(ref_sent_vec)\n",
    "    sims.append(sim)\n",
    "    doc_id.append(i)\n",
    "    sims_docs = pd.DataFrame(list(zip(doc_id, sims)), columns = ['doc_id', 'sims'])"
   ]
  },
  {
   "cell_type": "code",
   "execution_count": 19,
   "metadata": {},
   "outputs": [],
   "source": [
    "sims_docs_sorted =  sims_docs.sort_values(by = 'sims', ascending = False)"
   ]
  },
  {
   "cell_type": "code",
   "execution_count": 20,
   "metadata": {},
   "outputs": [],
   "source": [
    "top5_sim_docs = data.iloc[sims_docs_sorted['doc_id'][1:6]]"
   ]
  },
  {
   "cell_type": "code",
   "execution_count": 21,
   "metadata": {},
   "outputs": [
    {
     "data": {
      "text/plain": [
       "'“It must be a very pretty dance,” said Alice timidly'"
      ]
     },
     "execution_count": 21,
     "metadata": {},
     "output_type": "execute_result"
    }
   ],
   "source": [
    "ref_sent"
   ]
  },
  {
   "cell_type": "code",
   "execution_count": 22,
   "metadata": {},
   "outputs": [
    {
     "data": {
      "text/html": [
       "<div>\n",
       "<style scoped>\n",
       "    .dataframe tbody tr th:only-of-type {\n",
       "        vertical-align: middle;\n",
       "    }\n",
       "\n",
       "    .dataframe tbody tr th {\n",
       "        vertical-align: top;\n",
       "    }\n",
       "\n",
       "    .dataframe thead th {\n",
       "        text-align: right;\n",
       "    }\n",
       "</style>\n",
       "<table border=\"1\" class=\"dataframe\">\n",
       "  <thead>\n",
       "    <tr style=\"text-align: right;\">\n",
       "      <th></th>\n",
       "      <th>Id</th>\n",
       "      <th>text</th>\n",
       "    </tr>\n",
       "  </thead>\n",
       "  <tbody>\n",
       "    <tr>\n",
       "      <th>404</th>\n",
       "      <td>404</td>\n",
       "      <td>”“It turned into a pig,” Alice quietly said, j...</td>\n",
       "    </tr>\n",
       "    <tr>\n",
       "      <th>801</th>\n",
       "      <td>801</td>\n",
       "      <td>”“It’s all about as curious as it can be,” sai...</td>\n",
       "    </tr>\n",
       "    <tr>\n",
       "      <th>204</th>\n",
       "      <td>204</td>\n",
       "      <td>“What a numberof cucumber-frames there must b...</td>\n",
       "    </tr>\n",
       "    <tr>\n",
       "      <th>948</th>\n",
       "      <td>948</td>\n",
       "      <td>”“It must have been that,” said the King, “unl...</td>\n",
       "    </tr>\n",
       "    <tr>\n",
       "      <th>469</th>\n",
       "      <td>469</td>\n",
       "      <td>)“That would be grand, certainly,” said Alice ...</td>\n",
       "    </tr>\n",
       "  </tbody>\n",
       "</table>\n",
       "</div>"
      ],
      "text/plain": [
       "      Id                                               text\n",
       "404  404  ”“It turned into a pig,” Alice quietly said, j...\n",
       "801  801  ”“It’s all about as curious as it can be,” sai...\n",
       "204  204   “What a numberof cucumber-frames there must b...\n",
       "948  948  ”“It must have been that,” said the King, “unl...\n",
       "469  469  )“That would be grand, certainly,” said Alice ..."
      ]
     },
     "execution_count": 22,
     "metadata": {},
     "output_type": "execute_result"
    }
   ],
   "source": [
    "top5_sim_docs"
   ]
  },
  {
   "cell_type": "code",
   "execution_count": 23,
   "metadata": {},
   "outputs": [
    {
     "data": {
      "text/plain": [
       "404    0.895189\n",
       "801    0.894260\n",
       "204    0.892566\n",
       "948    0.890077\n",
       "469    0.885192\n",
       "Name: sims, dtype: float64"
      ]
     },
     "execution_count": 23,
     "metadata": {},
     "output_type": "execute_result"
    }
   ],
   "source": [
    "sims_docs_sorted['sims'][1:6]"
   ]
  },
  {
   "cell_type": "code",
   "execution_count": 24,
   "metadata": {},
   "outputs": [],
   "source": [
    "top_sim_scores = pd.concat([top5_sim_docs, sims_docs_sorted['sims'][1:6]], axis=1)"
   ]
  },
  {
   "cell_type": "code",
   "execution_count": 25,
   "metadata": {},
   "outputs": [
    {
     "name": "stdout",
     "output_type": "stream",
     "text": [
      "top 5 similar sentences are:”“It turned into a pig,” Alice quietly said, just as if it had come backin a natural way\n",
      " with similarity score of 0.90\n",
      "\n",
      "top 5 similar sentences are:”“It’s all about as curious as it can be,” said the Gryphon\n",
      " with similarity score of 0.89\n",
      "\n",
      "top 5 similar sentences are: “What a numberof cucumber-frames there must be!” thought Alice\n",
      " with similarity score of 0.89\n",
      "\n",
      "top 5 similar sentences are:”“It must have been that,” said the King, “unless it was written tonobody, which isn’t usual, you know\n",
      " with similarity score of 0.89\n",
      "\n",
      "top 5 similar sentences are:)“That would be grand, certainly,” said Alice thoughtfully: “but then—Ishouldn’t be hungry for it, you know\n",
      " with similarity score of 0.89\n",
      "\n"
     ]
    }
   ],
   "source": [
    "for (text,sim) in zip(top_sim_scores['text'],top_sim_scores['sims']):\n",
    "    print(\"top 5 similar sentences are:{}\\n with similarity score of {:.2f}\\n\".format(text, sim))"
   ]
  }
 ],
 "metadata": {
  "kernelspec": {
   "display_name": "ml",
   "language": "python",
   "name": "python3"
  },
  "language_info": {
   "codemirror_mode": {
    "name": "ipython",
    "version": 3
   },
   "file_extension": ".py",
   "mimetype": "text/x-python",
   "name": "python",
   "nbconvert_exporter": "python",
   "pygments_lexer": "ipython3",
   "version": "3.11.4"
  },
  "orig_nbformat": 4
 },
 "nbformat": 4,
 "nbformat_minor": 2
}
