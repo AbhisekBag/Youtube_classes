{
 "cells": [
  {
   "cell_type": "code",
   "execution_count": 20,
   "metadata": {},
   "outputs": [],
   "source": [
    "import pandas as pd\n",
    "import os\n",
    "import gensim\n",
    "import spacy\n",
    "import numpy as np\n",
    "\n",
    "nlp = spacy.load('en_core_web_lg')"
   ]
  },
  {
   "cell_type": "code",
   "execution_count": 4,
   "metadata": {},
   "outputs": [],
   "source": [
    "data1 = pd.read_csv(\"train.csv\")\n",
    "data2 = pd.read_csv(\"tomap.csv\")"
   ]
  },
  {
   "cell_type": "code",
   "execution_count": 6,
   "metadata": {},
   "outputs": [
    {
     "data": {
      "text/html": [
       "<div>\n",
       "<style scoped>\n",
       "    .dataframe tbody tr th:only-of-type {\n",
       "        vertical-align: middle;\n",
       "    }\n",
       "\n",
       "    .dataframe tbody tr th {\n",
       "        vertical-align: top;\n",
       "    }\n",
       "\n",
       "    .dataframe thead th {\n",
       "        text-align: right;\n",
       "    }\n",
       "</style>\n",
       "<table border=\"1\" class=\"dataframe\">\n",
       "  <thead>\n",
       "    <tr style=\"text-align: right;\">\n",
       "      <th></th>\n",
       "      <th>CVE ID</th>\n",
       "      <th>Description</th>\n",
       "      <th>CWE-Name</th>\n",
       "      <th>CWE-Description</th>\n",
       "      <th>Extended Description</th>\n",
       "    </tr>\n",
       "  </thead>\n",
       "  <tbody>\n",
       "    <tr>\n",
       "      <th>1397</th>\n",
       "      <td>CVE-2006-0706</td>\n",
       "      <td>Cross-site scripting vulnerability in eintrag....</td>\n",
       "      <td>Improper Neutralization of Input During Web Pa...</td>\n",
       "      <td>The product does not neutralize or incorrectly...</td>\n",
       "      <td>Cross-site scripting (XSS) vulnerabilities occ...</td>\n",
       "    </tr>\n",
       "    <tr>\n",
       "      <th>9593</th>\n",
       "      <td>CVE-2008-5316</td>\n",
       "      <td>Buffer overflow in the ReadEmbeddedTextTag fun...</td>\n",
       "      <td>Improper Restriction of Operations within the ...</td>\n",
       "      <td>The product performs operations on a memory bu...</td>\n",
       "      <td>Certain languages allow direct addressing of m...</td>\n",
       "    </tr>\n",
       "    <tr>\n",
       "      <th>4286</th>\n",
       "      <td>CVE-2007-5973</td>\n",
       "      <td>SQL injection vulnerability in articles.php in...</td>\n",
       "      <td>Improper Neutralization of Special Elements us...</td>\n",
       "      <td>The product constructs all or part of an SQL c...</td>\n",
       "      <td>Without sufficient removal or quoting of SQL s...</td>\n",
       "    </tr>\n",
       "    <tr>\n",
       "      <th>9691</th>\n",
       "      <td>CVE-2008-5434</td>\n",
       "      <td>Multiple SQL injection vulnerabilities in PunB...</td>\n",
       "      <td>Improper Neutralization of Special Elements us...</td>\n",
       "      <td>The product constructs all or part of an SQL c...</td>\n",
       "      <td>Without sufficient removal or quoting of SQL s...</td>\n",
       "    </tr>\n",
       "    <tr>\n",
       "      <th>6616</th>\n",
       "      <td>CVE-2008-1892</td>\n",
       "      <td>Cross-site scripting (XSS) vulnerability in bs...</td>\n",
       "      <td>Improper Neutralization of Input During Web Pa...</td>\n",
       "      <td>The product does not neutralize or incorrectly...</td>\n",
       "      <td>Cross-site scripting (XSS) vulnerabilities occ...</td>\n",
       "    </tr>\n",
       "  </tbody>\n",
       "</table>\n",
       "</div>"
      ],
      "text/plain": [
       "             CVE ID                                        Description  \\\n",
       "1397  CVE-2006-0706  Cross-site scripting vulnerability in eintrag....   \n",
       "9593  CVE-2008-5316  Buffer overflow in the ReadEmbeddedTextTag fun...   \n",
       "4286  CVE-2007-5973  SQL injection vulnerability in articles.php in...   \n",
       "9691  CVE-2008-5434  Multiple SQL injection vulnerabilities in PunB...   \n",
       "6616  CVE-2008-1892  Cross-site scripting (XSS) vulnerability in bs...   \n",
       "\n",
       "                                               CWE-Name  \\\n",
       "1397  Improper Neutralization of Input During Web Pa...   \n",
       "9593  Improper Restriction of Operations within the ...   \n",
       "4286  Improper Neutralization of Special Elements us...   \n",
       "9691  Improper Neutralization of Special Elements us...   \n",
       "6616  Improper Neutralization of Input During Web Pa...   \n",
       "\n",
       "                                        CWE-Description  \\\n",
       "1397  The product does not neutralize or incorrectly...   \n",
       "9593  The product performs operations on a memory bu...   \n",
       "4286  The product constructs all or part of an SQL c...   \n",
       "9691  The product constructs all or part of an SQL c...   \n",
       "6616  The product does not neutralize or incorrectly...   \n",
       "\n",
       "                                   Extended Description  \n",
       "1397  Cross-site scripting (XSS) vulnerabilities occ...  \n",
       "9593  Certain languages allow direct addressing of m...  \n",
       "4286  Without sufficient removal or quoting of SQL s...  \n",
       "9691  Without sufficient removal or quoting of SQL s...  \n",
       "6616  Cross-site scripting (XSS) vulnerabilities occ...  "
      ]
     },
     "execution_count": 6,
     "metadata": {},
     "output_type": "execute_result"
    }
   ],
   "source": [
    "data1.sample(5)"
   ]
  },
  {
   "cell_type": "code",
   "execution_count": 7,
   "metadata": {},
   "outputs": [
    {
     "data": {
      "text/html": [
       "<div>\n",
       "<style scoped>\n",
       "    .dataframe tbody tr th:only-of-type {\n",
       "        vertical-align: middle;\n",
       "    }\n",
       "\n",
       "    .dataframe tbody tr th {\n",
       "        vertical-align: top;\n",
       "    }\n",
       "\n",
       "    .dataframe thead th {\n",
       "        text-align: right;\n",
       "    }\n",
       "</style>\n",
       "<table border=\"1\" class=\"dataframe\">\n",
       "  <thead>\n",
       "    <tr style=\"text-align: right;\">\n",
       "      <th></th>\n",
       "      <th>ID</th>\n",
       "      <th>STIX ID</th>\n",
       "      <th>name</th>\n",
       "      <th>description</th>\n",
       "      <th>url</th>\n",
       "      <th>created</th>\n",
       "      <th>last modified</th>\n",
       "      <th>domain</th>\n",
       "      <th>version</th>\n",
       "      <th>contributors</th>\n",
       "      <th>tactics</th>\n",
       "      <th>detection</th>\n",
       "      <th>platforms</th>\n",
       "      <th>relationship citations</th>\n",
       "      <th>Unnamed: 14</th>\n",
       "      <th>Unnamed: 15</th>\n",
       "      <th>Procedures</th>\n",
       "      <th>Procedure Name</th>\n",
       "      <th>Procedure Description</th>\n",
       "    </tr>\n",
       "  </thead>\n",
       "  <tbody>\n",
       "    <tr>\n",
       "      <th>585</th>\n",
       "      <td>T1127.001</td>\n",
       "      <td>attack-pattern--c92e3d68-2349-49e4-a341-7edca2...</td>\n",
       "      <td>Trusted Developer Utilities Proxy Execution: M...</td>\n",
       "      <td>Adversaries may use MSBuild to proxy execution...</td>\n",
       "      <td>https://attack.mitre.org/techniques/T1127/001</td>\n",
       "      <td>27-Mar-20</td>\n",
       "      <td>14-Aug-23</td>\n",
       "      <td>enterprise-attack</td>\n",
       "      <td>1.3</td>\n",
       "      <td>@ionstorm; Carrie Roberts, @OrOneEqualsOne</td>\n",
       "      <td>Defense Evasion</td>\n",
       "      <td>Use process monitoring to monitor the executio...</td>\n",
       "      <td>Windows</td>\n",
       "      <td>(Citation: Palo Alto PlugX June 2017),(Citatio...</td>\n",
       "      <td>NaN</td>\n",
       "      <td>NaN</td>\n",
       "      <td>NaN</td>\n",
       "      <td>NaN</td>\n",
       "      <td>NaN</td>\n",
       "    </tr>\n",
       "    <tr>\n",
       "      <th>84</th>\n",
       "      <td>T1110.002</td>\n",
       "      <td>attack-pattern--1d24cdee-9ea2-4189-b08e-af110b...</td>\n",
       "      <td>Brute Force: Password Cracking</td>\n",
       "      <td>Adversaries may use password cracking to attem...</td>\n",
       "      <td>https://attack.mitre.org/techniques/T1110/002</td>\n",
       "      <td>11-Feb-20</td>\n",
       "      <td>30-Mar-23</td>\n",
       "      <td>enterprise-attack</td>\n",
       "      <td>1.2</td>\n",
       "      <td>Mohamed Kmal</td>\n",
       "      <td>Credential Access</td>\n",
       "      <td>It is difficult to detect when hashes are crac...</td>\n",
       "      <td>Azure AD, Linux, Network, Office 365, Windows,...</td>\n",
       "      <td>(Citation: FireEye APT41 Aug 2019),(Citation: ...</td>\n",
       "      <td>NaN</td>\n",
       "      <td>NaN</td>\n",
       "      <td>NaN</td>\n",
       "      <td>NaN</td>\n",
       "      <td>NaN</td>\n",
       "    </tr>\n",
       "    <tr>\n",
       "      <th>379</th>\n",
       "      <td>T1599.001</td>\n",
       "      <td>attack-pattern--4ffc1794-ec3b-45be-9e52-42dbcb...</td>\n",
       "      <td>Network Boundary Bridging: Network Address Tra...</td>\n",
       "      <td>Adversaries may bridge network boundaries by m...</td>\n",
       "      <td>https://attack.mitre.org/techniques/T1599/001</td>\n",
       "      <td>19-Oct-20</td>\n",
       "      <td>21-Oct-20</td>\n",
       "      <td>enterprise-attack</td>\n",
       "      <td>1.0</td>\n",
       "      <td>NaN</td>\n",
       "      <td>Defense Evasion</td>\n",
       "      <td>Consider monitoring network traffic on both in...</td>\n",
       "      <td>Network</td>\n",
       "      <td>,(Citation: NIST 800-63-3),(Citation: Cisco IO...</td>\n",
       "      <td>NaN</td>\n",
       "      <td>NaN</td>\n",
       "      <td>NaN</td>\n",
       "      <td>NaN</td>\n",
       "      <td>NaN</td>\n",
       "    </tr>\n",
       "    <tr>\n",
       "      <th>113</th>\n",
       "      <td>T1584.001</td>\n",
       "      <td>attack-pattern--f9cc4d06-775f-4ee1-b401-4e2cc0...</td>\n",
       "      <td>Compromise Infrastructure: Domains</td>\n",
       "      <td>Adversaries may hijack domains and/or subdomai...</td>\n",
       "      <td>https://attack.mitre.org/techniques/T1584/001</td>\n",
       "      <td>1-Oct-20</td>\n",
       "      <td>7-Mar-23</td>\n",
       "      <td>enterprise-attack</td>\n",
       "      <td>1.3</td>\n",
       "      <td>Jeremy Galloway</td>\n",
       "      <td>Resource Development</td>\n",
       "      <td>Consider monitoring for anomalous changes to d...</td>\n",
       "      <td>PRE</td>\n",
       "      <td>(Citation: Mandiant UNC3890 Aug 2022),(Citatio...</td>\n",
       "      <td>NaN</td>\n",
       "      <td>NaN</td>\n",
       "      <td>NaN</td>\n",
       "      <td>NaN</td>\n",
       "      <td>NaN</td>\n",
       "    </tr>\n",
       "    <tr>\n",
       "      <th>148</th>\n",
       "      <td>T1001.003</td>\n",
       "      <td>attack-pattern--c325b232-d5bc-4dde-a3ec-71f3db...</td>\n",
       "      <td>Data Obfuscation: Protocol Impersonation</td>\n",
       "      <td>Adversaries may impersonate legitimate protoco...</td>\n",
       "      <td>https://attack.mitre.org/techniques/T1001/003</td>\n",
       "      <td>15-Mar-20</td>\n",
       "      <td>15-Mar-20</td>\n",
       "      <td>enterprise-attack</td>\n",
       "      <td>1.0</td>\n",
       "      <td>NaN</td>\n",
       "      <td>Command and Control</td>\n",
       "      <td>Analyze network data for uncommon data flows (...</td>\n",
       "      <td>Linux, Windows, macOS</td>\n",
       "      <td>(Citation: ESET Okrum July 2019),(Citation: Zs...</td>\n",
       "      <td>NaN</td>\n",
       "      <td>NaN</td>\n",
       "      <td>NaN</td>\n",
       "      <td>NaN</td>\n",
       "      <td>NaN</td>\n",
       "    </tr>\n",
       "  </tbody>\n",
       "</table>\n",
       "</div>"
      ],
      "text/plain": [
       "            ID                                            STIX ID  \\\n",
       "585  T1127.001  attack-pattern--c92e3d68-2349-49e4-a341-7edca2...   \n",
       "84   T1110.002  attack-pattern--1d24cdee-9ea2-4189-b08e-af110b...   \n",
       "379  T1599.001  attack-pattern--4ffc1794-ec3b-45be-9e52-42dbcb...   \n",
       "113  T1584.001  attack-pattern--f9cc4d06-775f-4ee1-b401-4e2cc0...   \n",
       "148  T1001.003  attack-pattern--c325b232-d5bc-4dde-a3ec-71f3db...   \n",
       "\n",
       "                                                  name  \\\n",
       "585  Trusted Developer Utilities Proxy Execution: M...   \n",
       "84                      Brute Force: Password Cracking   \n",
       "379  Network Boundary Bridging: Network Address Tra...   \n",
       "113                 Compromise Infrastructure: Domains   \n",
       "148           Data Obfuscation: Protocol Impersonation   \n",
       "\n",
       "                                           description  \\\n",
       "585  Adversaries may use MSBuild to proxy execution...   \n",
       "84   Adversaries may use password cracking to attem...   \n",
       "379  Adversaries may bridge network boundaries by m...   \n",
       "113  Adversaries may hijack domains and/or subdomai...   \n",
       "148  Adversaries may impersonate legitimate protoco...   \n",
       "\n",
       "                                               url    created last modified  \\\n",
       "585  https://attack.mitre.org/techniques/T1127/001  27-Mar-20     14-Aug-23   \n",
       "84   https://attack.mitre.org/techniques/T1110/002  11-Feb-20     30-Mar-23   \n",
       "379  https://attack.mitre.org/techniques/T1599/001  19-Oct-20     21-Oct-20   \n",
       "113  https://attack.mitre.org/techniques/T1584/001   1-Oct-20      7-Mar-23   \n",
       "148  https://attack.mitre.org/techniques/T1001/003  15-Mar-20     15-Mar-20   \n",
       "\n",
       "                domain  version                                contributors  \\\n",
       "585  enterprise-attack      1.3  @ionstorm; Carrie Roberts, @OrOneEqualsOne   \n",
       "84   enterprise-attack      1.2                                Mohamed Kmal   \n",
       "379  enterprise-attack      1.0                                         NaN   \n",
       "113  enterprise-attack      1.3                             Jeremy Galloway   \n",
       "148  enterprise-attack      1.0                                         NaN   \n",
       "\n",
       "                  tactics                                          detection  \\\n",
       "585       Defense Evasion  Use process monitoring to monitor the executio...   \n",
       "84      Credential Access  It is difficult to detect when hashes are crac...   \n",
       "379       Defense Evasion  Consider monitoring network traffic on both in...   \n",
       "113  Resource Development  Consider monitoring for anomalous changes to d...   \n",
       "148   Command and Control  Analyze network data for uncommon data flows (...   \n",
       "\n",
       "                                             platforms  \\\n",
       "585                                            Windows   \n",
       "84   Azure AD, Linux, Network, Office 365, Windows,...   \n",
       "379                                            Network   \n",
       "113                                                PRE   \n",
       "148                              Linux, Windows, macOS   \n",
       "\n",
       "                                relationship citations  Unnamed: 14  \\\n",
       "585  (Citation: Palo Alto PlugX June 2017),(Citatio...          NaN   \n",
       "84   (Citation: FireEye APT41 Aug 2019),(Citation: ...          NaN   \n",
       "379  ,(Citation: NIST 800-63-3),(Citation: Cisco IO...          NaN   \n",
       "113  (Citation: Mandiant UNC3890 Aug 2022),(Citatio...          NaN   \n",
       "148  (Citation: ESET Okrum July 2019),(Citation: Zs...          NaN   \n",
       "\n",
       "     Unnamed: 15  Procedures  Procedure Name  Procedure Description  \n",
       "585          NaN         NaN             NaN                    NaN  \n",
       "84           NaN         NaN             NaN                    NaN  \n",
       "379          NaN         NaN             NaN                    NaN  \n",
       "113          NaN         NaN             NaN                    NaN  \n",
       "148          NaN         NaN             NaN                    NaN  "
      ]
     },
     "execution_count": 7,
     "metadata": {},
     "output_type": "execute_result"
    }
   ],
   "source": [
    "data2.sample(5)"
   ]
  },
  {
   "cell_type": "code",
   "execution_count": 11,
   "metadata": {},
   "outputs": [
    {
     "data": {
      "text/plain": [
       "CVE ID                     0\n",
       "Description                1\n",
       "CWE-Name                2054\n",
       "CWE-Description         2054\n",
       "Extended Description    2564\n",
       "dtype: int64"
      ]
     },
     "execution_count": 11,
     "metadata": {},
     "output_type": "execute_result"
    }
   ],
   "source": [
    "data1.isnull().sum()"
   ]
  },
  {
   "cell_type": "code",
   "execution_count": 13,
   "metadata": {},
   "outputs": [
    {
     "data": {
      "text/plain": [
       "ID                          0\n",
       "STIX ID                     0\n",
       "name                        0\n",
       "description                 0\n",
       "url                         0\n",
       "created                     0\n",
       "last modified               0\n",
       "domain                      0\n",
       "version                     0\n",
       "contributors              428\n",
       "tactics                     0\n",
       "detection                 131\n",
       "platforms                  81\n",
       "relationship citations      0\n",
       "Unnamed: 14               820\n",
       "Unnamed: 15               820\n",
       "Procedures                820\n",
       "Procedure Name            820\n",
       "Procedure Description     820\n",
       "dtype: int64"
      ]
     },
     "execution_count": 13,
     "metadata": {},
     "output_type": "execute_result"
    }
   ],
   "source": [
    "data2.isnull().sum()"
   ]
  },
  {
   "cell_type": "code",
   "execution_count": 14,
   "metadata": {},
   "outputs": [
    {
     "name": "stdout",
     "output_type": "stream",
     "text": [
      "<class 'pandas.core.frame.DataFrame'>\n",
      "RangeIndex: 820 entries, 0 to 819\n",
      "Data columns (total 19 columns):\n",
      " #   Column                  Non-Null Count  Dtype  \n",
      "---  ------                  --------------  -----  \n",
      " 0   ID                      820 non-null    object \n",
      " 1   STIX ID                 820 non-null    object \n",
      " 2   name                    820 non-null    object \n",
      " 3   description             820 non-null    object \n",
      " 4   url                     820 non-null    object \n",
      " 5   created                 820 non-null    object \n",
      " 6   last modified           820 non-null    object \n",
      " 7   domain                  820 non-null    object \n",
      " 8   version                 820 non-null    float64\n",
      " 9   contributors            392 non-null    object \n",
      " 10  tactics                 820 non-null    object \n",
      " 11  detection               689 non-null    object \n",
      " 12  platforms               739 non-null    object \n",
      " 13  relationship citations  820 non-null    object \n",
      " 14  Unnamed: 14             0 non-null      float64\n",
      " 15  Unnamed: 15             0 non-null      float64\n",
      " 16  Procedures              0 non-null      float64\n",
      " 17  Procedure Name          0 non-null      float64\n",
      " 18  Procedure Description   0 non-null      float64\n",
      "dtypes: float64(6), object(13)\n",
      "memory usage: 121.8+ KB\n"
     ]
    }
   ],
   "source": [
    "data2.info()"
   ]
  },
  {
   "cell_type": "markdown",
   "metadata": {},
   "source": [
    "### test dataset data2 has both object and float type data, we need to use different methods for imputation of missing values"
   ]
  },
  {
   "cell_type": "code",
   "execution_count": 15,
   "metadata": {},
   "outputs": [
    {
     "name": "stdout",
     "output_type": "stream",
     "text": [
      "<class 'pandas.core.frame.DataFrame'>\n",
      "RangeIndex: 10174 entries, 0 to 10173\n",
      "Data columns (total 5 columns):\n",
      " #   Column                Non-Null Count  Dtype \n",
      "---  ------                --------------  ----- \n",
      " 0   CVE ID                10174 non-null  object\n",
      " 1   Description           10173 non-null  object\n",
      " 2   CWE-Name              8120 non-null   object\n",
      " 3   CWE-Description       8120 non-null   object\n",
      " 4   Extended Description  7610 non-null   object\n",
      "dtypes: object(5)\n",
      "memory usage: 397.6+ KB\n"
     ]
    }
   ],
   "source": [
    "data1.info()"
   ]
  },
  {
   "cell_type": "code",
   "execution_count": 16,
   "metadata": {},
   "outputs": [
    {
     "data": {
      "text/plain": [
       "CVE ID                     0\n",
       "Description                0\n",
       "CWE-Name                2053\n",
       "CWE-Description         2053\n",
       "Extended Description    2563\n",
       "dtype: int64"
      ]
     },
     "execution_count": 16,
     "metadata": {},
     "output_type": "execute_result"
    }
   ],
   "source": [
    "# there is only one unknown value in Description, let's remove that column\n",
    "data1 = data1.dropna(subset=['Description'])\n",
    "data1.isnull().sum()"
   ]
  },
  {
   "cell_type": "code",
   "execution_count": 18,
   "metadata": {},
   "outputs": [
    {
     "data": {
      "text/plain": [
       "CVE ID                  0\n",
       "Description             0\n",
       "CWE-Name                0\n",
       "CWE-Description         0\n",
       "Extended Description    0\n",
       "dtype: int64"
      ]
     },
     "execution_count": 18,
     "metadata": {},
     "output_type": "execute_result"
    }
   ],
   "source": [
    "# lets first impute the null values in test dataset with 'UNKNOWN'\n",
    "replacement_values = {\n",
    "    'CWE-Name':'UNKNOWN',\n",
    "    'CWE-Description':'UNKNOWN',\n",
    "    'Extended Description':'UNKNOWN'\n",
    "}\n",
    "\n",
    "data1.fillna(value=replacement_values, inplace=True)\n",
    "data1.isnull().sum()"
   ]
  },
  {
   "cell_type": "code",
   "execution_count": 23,
   "metadata": {},
   "outputs": [],
   "source": [
    "# there are few numerical column which has no entries except nan let's drop these columns from the dataset \n",
    "data2.drop(columns = ['Unnamed: 14','Unnamed: 15','Procedures','Procedure Name','Procedure Description'], inplace = True)"
   ]
  },
  {
   "cell_type": "code",
   "execution_count": 24,
   "metadata": {},
   "outputs": [
    {
     "data": {
      "text/plain": [
       "ID                          0\n",
       "STIX ID                     0\n",
       "name                        0\n",
       "description                 0\n",
       "url                         0\n",
       "created                     0\n",
       "last modified               0\n",
       "domain                      0\n",
       "version                     0\n",
       "contributors              428\n",
       "tactics                     0\n",
       "detection                 131\n",
       "platforms                  81\n",
       "relationship citations      0\n",
       "dtype: int64"
      ]
     },
     "execution_count": 24,
     "metadata": {},
     "output_type": "execute_result"
    }
   ],
   "source": [
    "# as data2 has mixed feature handle numerical first\n",
    "numerical_columns = data2.select_dtypes(include=[np.float64]).columns\n",
    "replacement_values_numerical = {col: data2[col].mean() for col in numerical_columns}\n",
    "data2[numerical_columns] = data2[numerical_columns].fillna(value=replacement_values_numerical)\n",
    "data2.isnull().sum()"
   ]
  },
  {
   "cell_type": "code",
   "execution_count": 26,
   "metadata": {},
   "outputs": [],
   "source": [
    "# now handle remaining missing columns\n",
    "categorical_columns = data2.select_dtypes(include=[object]).columns\n",
    "data2[categorical_columns] = data2[categorical_columns].fillna('UNKNOWN')"
   ]
  },
  {
   "cell_type": "code",
   "execution_count": 27,
   "metadata": {},
   "outputs": [
    {
     "data": {
      "text/plain": [
       "ID                        0\n",
       "STIX ID                   0\n",
       "name                      0\n",
       "description               0\n",
       "url                       0\n",
       "created                   0\n",
       "last modified             0\n",
       "domain                    0\n",
       "version                   0\n",
       "contributors              0\n",
       "tactics                   0\n",
       "detection                 0\n",
       "platforms                 0\n",
       "relationship citations    0\n",
       "dtype: int64"
      ]
     },
     "execution_count": 27,
     "metadata": {},
     "output_type": "execute_result"
    }
   ],
   "source": [
    "data2.isnull().sum()"
   ]
  },
  {
   "cell_type": "code",
   "execution_count": 28,
   "metadata": {},
   "outputs": [
    {
     "data": {
      "text/plain": [
       "Index(['CVE ID', 'Description', 'CWE-Name', 'CWE-Description',\n",
       "       'Extended Description'],\n",
       "      dtype='object')"
      ]
     },
     "execution_count": 28,
     "metadata": {},
     "output_type": "execute_result"
    }
   ],
   "source": [
    "data1.columns"
   ]
  },
  {
   "cell_type": "code",
   "execution_count": 29,
   "metadata": {},
   "outputs": [
    {
     "data": {
      "text/html": [
       "<div>\n",
       "<style scoped>\n",
       "    .dataframe tbody tr th:only-of-type {\n",
       "        vertical-align: middle;\n",
       "    }\n",
       "\n",
       "    .dataframe tbody tr th {\n",
       "        vertical-align: top;\n",
       "    }\n",
       "\n",
       "    .dataframe thead th {\n",
       "        text-align: right;\n",
       "    }\n",
       "</style>\n",
       "<table border=\"1\" class=\"dataframe\">\n",
       "  <thead>\n",
       "    <tr style=\"text-align: right;\">\n",
       "      <th></th>\n",
       "      <th>CVE ID</th>\n",
       "      <th>Description</th>\n",
       "      <th>CWE-Name</th>\n",
       "      <th>CWE-Description</th>\n",
       "      <th>Extended Description</th>\n",
       "      <th>train_feature</th>\n",
       "    </tr>\n",
       "  </thead>\n",
       "  <tbody>\n",
       "    <tr>\n",
       "      <th>7288</th>\n",
       "      <td>CVE-2008-2686</td>\n",
       "      <td>webinc/bxe/scripts/loadsave.php in Flux CMS 1....</td>\n",
       "      <td>Improper Input Validation</td>\n",
       "      <td>The product receives input or data, but it doe...</td>\n",
       "      <td>Input validation is a frequently-used techniqu...</td>\n",
       "      <td>CVE-2008-2686webinc/bxe/scripts/loadsave.php i...</td>\n",
       "    </tr>\n",
       "  </tbody>\n",
       "</table>\n",
       "</div>"
      ],
      "text/plain": [
       "             CVE ID                                        Description  \\\n",
       "7288  CVE-2008-2686  webinc/bxe/scripts/loadsave.php in Flux CMS 1....   \n",
       "\n",
       "                       CWE-Name  \\\n",
       "7288  Improper Input Validation   \n",
       "\n",
       "                                        CWE-Description  \\\n",
       "7288  The product receives input or data, but it doe...   \n",
       "\n",
       "                                   Extended Description  \\\n",
       "7288  Input validation is a frequently-used techniqu...   \n",
       "\n",
       "                                          train_feature  \n",
       "7288  CVE-2008-2686webinc/bxe/scripts/loadsave.php i...  "
      ]
     },
     "execution_count": 29,
     "metadata": {},
     "output_type": "execute_result"
    }
   ],
   "source": [
    "# lets merge the columns to make a new feature as we need to vectorize them\n",
    "data1['train_feature'] = data1['CVE ID']+data1['Description']+data1['CWE-Name']+data1['CWE-Description']+data1['Extended Description']\n",
    "data1.sample()"
   ]
  },
  {
   "cell_type": "code",
   "execution_count": 30,
   "metadata": {},
   "outputs": [
    {
     "data": {
      "text/plain": [
       "Index(['ID', 'STIX ID', 'name', 'description', 'url', 'created',\n",
       "       'last modified', 'domain', 'version', 'contributors', 'tactics',\n",
       "       'detection', 'platforms', 'relationship citations'],\n",
       "      dtype='object')"
      ]
     },
     "execution_count": 30,
     "metadata": {},
     "output_type": "execute_result"
    }
   ],
   "source": [
    "data2.columns"
   ]
  },
  {
   "cell_type": "code",
   "execution_count": 31,
   "metadata": {},
   "outputs": [
    {
     "data": {
      "text/html": [
       "<div>\n",
       "<style scoped>\n",
       "    .dataframe tbody tr th:only-of-type {\n",
       "        vertical-align: middle;\n",
       "    }\n",
       "\n",
       "    .dataframe tbody tr th {\n",
       "        vertical-align: top;\n",
       "    }\n",
       "\n",
       "    .dataframe thead th {\n",
       "        text-align: right;\n",
       "    }\n",
       "</style>\n",
       "<table border=\"1\" class=\"dataframe\">\n",
       "  <thead>\n",
       "    <tr style=\"text-align: right;\">\n",
       "      <th></th>\n",
       "      <th>ID</th>\n",
       "      <th>STIX ID</th>\n",
       "      <th>name</th>\n",
       "      <th>description</th>\n",
       "      <th>url</th>\n",
       "      <th>created</th>\n",
       "      <th>last modified</th>\n",
       "      <th>domain</th>\n",
       "      <th>version</th>\n",
       "      <th>contributors</th>\n",
       "      <th>tactics</th>\n",
       "      <th>detection</th>\n",
       "      <th>platforms</th>\n",
       "      <th>relationship citations</th>\n",
       "      <th>test_feature</th>\n",
       "    </tr>\n",
       "  </thead>\n",
       "  <tbody>\n",
       "    <tr>\n",
       "      <th>235</th>\n",
       "      <td>T1567</td>\n",
       "      <td>attack-pattern--40597f16-0963-4249-bf4c-ac93b7...</td>\n",
       "      <td>Exfiltration Over Web Service</td>\n",
       "      <td>Adversaries may use an existing, legitimate ex...</td>\n",
       "      <td>https://attack.mitre.org/techniques/T1567</td>\n",
       "      <td>9-Mar-20</td>\n",
       "      <td>5-Sep-23</td>\n",
       "      <td>enterprise-attack</td>\n",
       "      <td>1.3</td>\n",
       "      <td>William Cain</td>\n",
       "      <td>Exfiltration</td>\n",
       "      <td>Analyze network data for uncommon data flows (...</td>\n",
       "      <td>Google Workspace, Linux, Office 365, SaaS, Win...</td>\n",
       "      <td>(Citation: TrendMicro Pawn Storm Dec 2020),(Ci...</td>\n",
       "      <td>Exfiltration Over Web ServiceAdversaries may u...</td>\n",
       "    </tr>\n",
       "  </tbody>\n",
       "</table>\n",
       "</div>"
      ],
      "text/plain": [
       "        ID                                            STIX ID  \\\n",
       "235  T1567  attack-pattern--40597f16-0963-4249-bf4c-ac93b7...   \n",
       "\n",
       "                              name  \\\n",
       "235  Exfiltration Over Web Service   \n",
       "\n",
       "                                           description  \\\n",
       "235  Adversaries may use an existing, legitimate ex...   \n",
       "\n",
       "                                           url   created last modified  \\\n",
       "235  https://attack.mitre.org/techniques/T1567  9-Mar-20      5-Sep-23   \n",
       "\n",
       "                domain  version  contributors       tactics  \\\n",
       "235  enterprise-attack      1.3  William Cain  Exfiltration   \n",
       "\n",
       "                                             detection  \\\n",
       "235  Analyze network data for uncommon data flows (...   \n",
       "\n",
       "                                             platforms  \\\n",
       "235  Google Workspace, Linux, Office 365, SaaS, Win...   \n",
       "\n",
       "                                relationship citations  \\\n",
       "235  (Citation: TrendMicro Pawn Storm Dec 2020),(Ci...   \n",
       "\n",
       "                                          test_feature  \n",
       "235  Exfiltration Over Web ServiceAdversaries may u...  "
      ]
     },
     "execution_count": 31,
     "metadata": {},
     "output_type": "execute_result"
    }
   ],
   "source": [
    "data2['test_feature'] = data2['name']+data2['description']\n",
    "data2.sample()"
   ]
  },
  {
   "cell_type": "code",
   "execution_count": 40,
   "metadata": {},
   "outputs": [
    {
     "name": "stdout",
     "output_type": "stream",
     "text": [
      "CVE-1999-0001ip_input.c in BSD-derived TCP/IP implementations allows remote attackers to cause a denial of service (crash or hang) via crafted packets.Improper Input ValidationThe product receives input or data, but it does not validate or incorrectly validates that the input has the properties that are required to process the data safely and correctly.Input validation is a frequently-used technique for checking potentially dangerous inputs in order to ensure that the inputs are safe for processing within the code, or when communicating with other components. When software does not validate input properly, an attacker is able to craft the input in a form that is not expected by the rest of the application. This will lead to parts of the system receiving unintended input, which may result in altered control flow, arbitrary control of a resource, or arbitrary code execution. Input validation is not the only technique for processing input, however. Other techniques attempt to transform potentially-dangerous input into something safe, such as filtering (CWE-790) - which attempts to remove dangerous inputs - or encoding/escaping (CWE-116), which attempts to ensure that the input is not misinterpreted when it is included in output to another component. Other techniques exist as well (see CWE-138 for more examples.) Input validation can be applied to: raw data - strings, numbers, parameters, file contents, etc. metadata - information about the raw data, such as headers or size Data can be simple or structured. Structured data can be composed of many nested layers, composed of combinations of metadata and raw data, with other simple or structured data. Many properties of raw data or metadata may need to be validated upon entry into the code, such as: specified quantities such as size, length, frequency, price, rate, number of operations, time, etc. implied or derived quantities, such as the actual size of a file instead of a specified size indexes, offsets, or positions into more complex data structures symbolic keys or other elements into hash tables, associative arrays, etc. well-formedness, i.e. syntactic correctness - compliance with expected syntax lexical token correctness - compliance with rules for what is treated as a token specified or derived type - the actual type of the input (or what the input appears to be) consistency - between individual data elements, between raw data and metadata, between references, etc. conformance to domain-specific rules, e.g. business logic equivalence - ensuring that equivalent inputs are treated the same authenticity, ownership, or other attestations about the input, e.g. a cryptographic signature to prove the source of the data Implied or derived properties of data must often be calculated or inferred by the code itself. Errors in deriving properties may be considered a contributing factor to improper input validation. Note that input validation has very different meanings to different people, or within different classification schemes. Caution must be used when referencing this CWE entry or mapping to it. For example, some weaknesses might involve inadvertently giving control to an attacker over an input when they should not be able to provide an input at all, but sometimes this is referred to as input validation. Finally, it is important to emphasize that the distinctions between input validation and output escaping are often blurred, and developers must be careful to understand the difference, including how input validation is not always sufficient to prevent vulnerabilities, especially when less stringent data types must be supported, such as free-form text. Consider a SQL injection scenario in which a person's last name is inserted into a query. The name O'Reilly would likely pass the validation step since it is a common last name in the English language. However, this valid name cannot be directly inserted into the database because it contains the ' apostrophe character, which would need to be escaped or otherwise transformed. In this case, removing the apostrophe might reduce the risk of SQL injection, but it would produce incorrect behavior because the wrong name would be recorded.\n"
     ]
    }
   ],
   "source": [
    "# next task is to match any entry from data1 to all entries of data2 and find best matches\n",
    "ref_sent = data1['train_feature'][0]\n",
    "print(ref_sent)\n",
    "ref_sent_vec = nlp(ref_sent)"
   ]
  },
  {
   "cell_type": "code",
   "execution_count": 36,
   "metadata": {},
   "outputs": [],
   "source": [
    "all_docs = [nlp(row) for row in data2['test_feature']]\n",
    "sims = []\n",
    "doc_id = []\n",
    "for i in range(len(all_docs)):\n",
    "    sim = all_docs[i].similarity(ref_sent_vec)\n",
    "    sims.append(sim)\n",
    "    doc_id.append(i)\n",
    "    sims_docs = pd.DataFrame(list(zip(doc_id, sims)), columns = ['doc_id', 'sims'])\n",
    "\n",
    "sims_docs_sorted =  sims_docs.sort_values(by = 'sims', ascending = False)\n",
    "\n",
    "top5_sim_docs = data2.iloc[sims_docs_sorted['doc_id'][1:6]]"
   ]
  },
  {
   "cell_type": "code",
   "execution_count": 38,
   "metadata": {},
   "outputs": [
    {
     "data": {
      "text/plain": [
       "674    Modify ParameterAdversaries may modify paramet...\n",
       "304    Hijack Execution Flow: Services File Permissio...\n",
       "633    Change CredentialAdversaries may modify softwa...\n",
       "735    Dead Drop ResolverAdversaries may use an exist...\n",
       "436    Phishing: Spearphishing AttachmentAdversaries ...\n",
       "Name: test_feature, dtype: object"
      ]
     },
     "execution_count": 38,
     "metadata": {},
     "output_type": "execute_result"
    }
   ],
   "source": [
    "top5_sim_docs['test_feature']"
   ]
  },
  {
   "cell_type": "code",
   "execution_count": 39,
   "metadata": {},
   "outputs": [
    {
     "name": "stdout",
     "output_type": "stream",
     "text": [
      "top 5 similar sentences are:Modify ParameterAdversaries may modify parameters used to instruct industrial control system devices. These devices operate via programs that dictate how and when to perform actions based on such parameters. Such parameters can determine the extent to which an action is performed and may specify additional options. For example, a program on a control system device dictating motor processes may take a parameter defining the total number of seconds to run that motor.      \n",
      "\n",
      "An adversary can potentially modify these parameters to produce an outcome outside of what was intended by the operators. By modifying system and process critical parameters, the adversary may cause [Impact](https://attack.mitre.org/tactics/TA0105) to equipment and/or control processes. Modified parameters may be turned into dangerous, out-of-bounds, or unexpected values from typical operations. For example, specifying that a process run for more or less time than it should, or dictating an unusually high, low, or invalid value as a parameter.\n",
      " with similarity score of 0.98\n",
      "\n",
      "top 5 similar sentences are:Hijack Execution Flow: Services File Permissions WeaknessAdversaries may execute their own malicious payloads by hijacking the binaries used by services. Adversaries may use flaws in the permissions of Windows services to replace the binary that is executed upon service start. These service processes may automatically execute specific binaries as part of their functionality or to perform other actions. If the permissions on the file system directory containing a target binary, or permissions on the binary itself are improperly set, then the target binary may be overwritten with another binary using user-level permissions and executed by the original process. If the original process and thread are running under a higher permissions level, then the replaced binary will also execute under higher-level permissions, which could include SYSTEM.\n",
      "\n",
      "Adversaries may use this technique to replace legitimate binaries with malicious ones as a means of executing code at a higher permissions level. If the executing process is set to run at a specific time or during a certain event (e.g., system bootup) then this technique can also be used for persistence.\n",
      " with similarity score of 0.98\n",
      "\n",
      "top 5 similar sentences are:Change CredentialAdversaries may modify software and device credentials to prevent operator and responder access. Depending on the device, the modification or addition of this password could prevent any device configuration actions from being accomplished and may require a factory reset or replacement of hardware. These credentials are often built-in features provided by the device vendors as a means to restrict access to management interfaces.\n",
      "\n",
      "An adversary with access to valid or hardcoded credentials could change the credential to prevent future authorized device access. Change Credential may be especially damaging when paired with other techniques such as Modify Program, Data Destruction, or Modify Controller Tasking. In these cases, a device’s configuration may be destroyed or include malicious actions for the process environment, which cannot not be removed through normal device configuration actions. \n",
      "\n",
      "Additionally, recovery of the device and original configuration may be difficult depending on the features provided by the device. In some cases, these passwords cannot be removed onsite and may require that the device be sent back to the vendor for additional recovery steps.\n",
      "\n",
      "\n",
      "A chain of incidents occurred in Germany, where adversaries locked operators out of their building automation system (BAS) controllers by enabling a previously unset BCU key. (Citation: German BAS Lockout Dec 2021) \n",
      "\n",
      " with similarity score of 0.98\n",
      "\n",
      "top 5 similar sentences are:Dead Drop ResolverAdversaries may use an existing, legitimate external Web service to host information that points to additional command and control (C2) infrastructure. Adversaries may post content, known as a dead drop resolver, on Web services with embedded (and often obfuscated/encoded) domains or IP addresses. Once infected, victims will reach out to and be redirected by these resolvers. \n",
      "\n",
      " \n",
      "\n",
      "Popular websites and social media, acting as a mechanism for C2, may give a significant amount of cover. This is due to the likelihood that hosts within a network are already communicating with them prior to a compromise. Using common services, such as those offered by Google or Twitter, makes it easier for adversaries to hide in expected noise. Web service providers commonly use SSL/TLS encryption, giving adversaries an added level of protection. \n",
      "\n",
      " \n",
      "\n",
      "Use of a dead drop resolver may also protect back-end C2 infrastructure from discovery through malware binary analysis, or enable operational resiliency (since this infrastructure may be dynamically changed). \n",
      " with similarity score of 0.98\n",
      "\n",
      "top 5 similar sentences are:Phishing: Spearphishing AttachmentAdversaries may send spearphishing emails with a malicious attachment in an attempt to gain access to victim systems. Spearphishing attachment is a specific variant of spearphishing. Spearphishing attachment is different from other forms of spearphishing in that it employs the use of malware attached to an email. All forms of spearphishing are electronically delivered social engineering targeted at a specific individual, company, or industry. In this scenario, adversaries attach a file to the spearphishing email and usually rely upon [User Execution](https://attack.mitre.org/techniques/T1204) to gain execution. Spearphishing may also involve social engineering techniques, such as posing as a trusted source.\n",
      "\n",
      "There are many options for the attachment such as Microsoft Office documents, executables, PDFs, or archived files. Upon opening the attachment (and potentially clicking past protections), the adversary's payload exploits a vulnerability or directly executes on the user's system. The text of the spearphishing email usually tries to give a plausible reason why the file should be opened, and may explain how to bypass system protections in order to do so. The email may also contain instructions on how to decrypt an attachment, such as a zip file password, in order to evade email boundary defenses. Adversaries frequently manipulate file extensions and icons in order to make attached executables appear to be document files, or files exploiting one application appear to be a file for a different one. \n",
      " with similarity score of 0.98\n",
      "\n"
     ]
    }
   ],
   "source": [
    "top_sim_scores = pd.concat([top5_sim_docs, sims_docs_sorted['sims'][1:6]], axis=1)\n",
    "\n",
    "for (text,sim) in zip(top_sim_scores['test_feature'],top_sim_scores['sims']):\n",
    "    print(\"top 5 similar sentences are:{}\\n with similarity score of {:.2f}\\n\".format(text, sim))"
   ]
  },
  {
   "cell_type": "code",
   "execution_count": null,
   "metadata": {},
   "outputs": [],
   "source": []
  }
 ],
 "metadata": {
  "kernelspec": {
   "display_name": "ml",
   "language": "python",
   "name": "python3"
  },
  "language_info": {
   "codemirror_mode": {
    "name": "ipython",
    "version": 3
   },
   "file_extension": ".py",
   "mimetype": "text/x-python",
   "name": "python",
   "nbconvert_exporter": "python",
   "pygments_lexer": "ipython3",
   "version": "3.11.4"
  },
  "orig_nbformat": 4
 },
 "nbformat": 4,
 "nbformat_minor": 2
}
